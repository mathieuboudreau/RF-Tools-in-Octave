{
 "cells": [
  {
   "cell_type": "markdown",
   "metadata": {
    "kernel": "SoS"
   },
   "source": [
    "<h1>RF Tools Demo </h1>\n",
    "    \n",
    "This NeuroLibre tutorial is a fork of John Pauly's tutorial on his rf_tools Octave package, which was presented as part of the Open-Source Software Tools session at ISMRM 2019, in Montreal Canada.\n",
    "\n",
    "The figures are interactive, and to modi\n",
    "\n",
    "<h2> Outline </h2>\n",
    "\n",
    "There are four parts to this tutorial\n",
    "- RF Pulse simulator -- abr.m\n",
    "- Shinnar-Le Roux pulse design routines -- b2rf.m, and friends\n",
    "- Minimum and maximum phase pulses -- dzmp.m\n",
    "- 2D spiral pulse design -- dz2d.m\n",
    "\n",
    "The first three sections cover the Shinnar-Le Roux (SLR) pulse design method described in\n",
    "\n",
    "\"Parameter relations for the Shinnar-Le Roux selective excitation pulse design algorithm,\" J Pauly, P Le Roux, D Nishimura, A Macovski IEEE transactions on medical imaging 10 (1), 53-65"
   ]
  }
 ],
 "metadata": {
  "kernelspec": {
   "display_name": "SoS",
   "language": "sos",
   "name": "sos"
  },
  "language_info": {
   "codemirror_mode": "sos",
   "file_extension": ".sos",
   "mimetype": "text/x-sos",
   "name": "sos",
   "nbconvert_exporter": "sos_notebook.converter.SoS_Exporter",
   "pygments_lexer": "sos"
  },
  "sos": {
   "kernels": [
    [
     "SoS",
     "sos",
     "",
     ""
    ]
   ],
   "version": "0.17.2"
  }
 },
 "nbformat": 4,
 "nbformat_minor": 2
}
