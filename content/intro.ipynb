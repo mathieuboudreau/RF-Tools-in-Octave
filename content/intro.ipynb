{
 "cells": [
  {
   "cell_type": "markdown",
   "metadata": {
    "kernel": "SoS"
   },
   "source": [
    "<h1>RF Tools Demo </h1>\n",
    "    \n",
    "Demo for the rf_tools octave package\n",
    "\n",
    "ISMRM 2019, Montreal Canada\n",
    "\n",
    "Run this with\n",
    "\n",
    "    jupyter notebook rf_tools_demo.ipynb\n",
    "    \n",
    "This requires that octave be installed, the signal toolbox, and the octave kernel for jupyter.\n",
    "\n",
    "<h2> Outline </h2>\n",
    "\n",
    "There are four parts to this tutorial\n",
    "- RF Pulse simulator -- abr.m\n",
    "- Shinnar-Le Roux pulse design routines -- b2rf.m, and friends\n",
    "- Minimum and maximum phase pulses -- dzmp.m\n",
    "- 2D spiral pulse design -- dz2d.m\n",
    "\n",
    "The first three sections cover the Shinnar-Le Roux (SLR) pulse design method described in\n",
    "\n",
    "\"Parameter relations for the Shinnar-Le Roux selective excitation pulse design algorithm,\" J Pauly, P Le Roux, D Nishimura, A Macovski IEEE transactions on medical imaging 10 (1), 53-65"
   ]
  }
 ],
 "metadata": {
  "kernelspec": {
   "display_name": "SoS",
   "language": "sos",
   "name": "sos"
  },
  "language_info": {
   "codemirror_mode": "sos",
   "file_extension": ".sos",
   "mimetype": "text/x-sos",
   "name": "sos",
   "nbconvert_exporter": "sos_notebook.converter.SoS_Exporter",
   "pygments_lexer": "sos"
  },
  "sos": {
   "kernels": [
    [
     "SoS",
     "sos",
     "",
     ""
    ]
   ],
   "version": "0.17.2"
  }
 },
 "nbformat": 4,
 "nbformat_minor": 2
}
